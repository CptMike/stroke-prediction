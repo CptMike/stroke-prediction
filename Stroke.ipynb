{
 "cells": [
  {
   "cell_type": "code",
   "execution_count": null,
   "id": "00635a90",
   "metadata": {},
   "outputs": [],
   "source": [
    "import numpy as np\n",
    "import pandas as pd\n",
    "import matplotlib.pyplot as plt\n",
    "import seaborn as sns\n",
    "from sklearn.model_selection import train_test_split\n",
    "from sklearn.linear_model import LogisticRegression\n",
    "from sklearn.metrics import confusion_matrix, classification_report\n",
    "from sklearn.metrics import recall_score, precision_score\n",
    "from sklearn.ensemble import RandomForestClassifier\n",
    "from sklearn.model_selection import cross_val_score\n",
    "%pip install --upgrade scikit-learn imbalanced-learn\n",
    "from imblearn.over_sampling import SMOTE"
   ]
  },
  {
   "cell_type": "markdown",
   "id": "93f40a28",
   "metadata": {},
   "source": [
    "### Import Data"
   ]
  },
  {
   "cell_type": "code",
   "execution_count": null,
   "id": "c4167a80",
   "metadata": {},
   "outputs": [],
   "source": [
    "df = pd.read_csv(\"stroke_data.csv\",sep=\",\",index_col=\"id\")"
   ]
  },
  {
   "cell_type": "code",
   "execution_count": null,
   "id": "e670c7a4",
   "metadata": {},
   "outputs": [],
   "source": [
    "df.head(10)"
   ]
  },
  {
   "cell_type": "code",
   "execution_count": null,
   "id": "989e013f",
   "metadata": {},
   "outputs": [],
   "source": [
    "df.tail(10)"
   ]
  },
  {
   "cell_type": "markdown",
   "id": "088415f8",
   "metadata": {},
   "source": [
    "### EDA"
   ]
  },
  {
   "cell_type": "markdown",
   "id": "512e07de",
   "metadata": {},
   "source": [
    "#### Overview"
   ]
  },
  {
   "cell_type": "code",
   "execution_count": null,
   "id": "17f8f158",
   "metadata": {},
   "outputs": [],
   "source": [
    "df.shape"
   ]
  },
  {
   "cell_type": "code",
   "execution_count": null,
   "id": "8c866533",
   "metadata": {},
   "outputs": [],
   "source": [
    "df.describe()"
   ]
  },
  {
   "cell_type": "code",
   "execution_count": null,
   "id": "b1bc4255",
   "metadata": {},
   "outputs": [],
   "source": [
    "for col in df.columns:\n",
    "    print(f\"\\n=== {col} ===\")\n",
    "    print(df[col].value_counts(dropna=False))"
   ]
  },
  {
   "cell_type": "markdown",
   "id": "c67c0b76",
   "metadata": {},
   "source": [
    "#### Check for missing values"
   ]
  },
  {
   "cell_type": "code",
   "execution_count": null,
   "id": "40ed6ac4",
   "metadata": {},
   "outputs": [],
   "source": [
    "df.isnull().sum()"
   ]
  },
  {
   "cell_type": "markdown",
   "id": "c8f37da3",
   "metadata": {},
   "source": [
    "#### Plots by Feature"
   ]
  },
  {
   "cell_type": "markdown",
   "id": "50d04214",
   "metadata": {},
   "source": [
    "##### Gender"
   ]
  },
  {
   "cell_type": "code",
   "execution_count": null,
   "id": "83474e91",
   "metadata": {},
   "outputs": [],
   "source": [
    "sns.countplot(x='gender', hue='stroke', data=df)\n",
    "plt.title('Gender vs Stroke')\n"
   ]
  },
  {
   "cell_type": "markdown",
   "id": "9ee6ac05",
   "metadata": {},
   "source": [
    "##### Age"
   ]
  },
  {
   "cell_type": "code",
   "execution_count": null,
   "id": "ac1c7fb9",
   "metadata": {},
   "outputs": [],
   "source": [
    "sns.boxplot(x='stroke', y='age', data=df)\n",
    "plt.title('Age by Stroke')"
   ]
  },
  {
   "cell_type": "markdown",
   "id": "e9384f02",
   "metadata": {},
   "source": [
    "##### Hypertension"
   ]
  },
  {
   "cell_type": "code",
   "execution_count": null,
   "id": "3b9acf9f",
   "metadata": {},
   "outputs": [],
   "source": [
    "sns.countplot(x='hypertension', hue='stroke', data=df)\n",
    "plt.title('Hypertension vs Stroke')"
   ]
  },
  {
   "cell_type": "markdown",
   "id": "aaf2b452",
   "metadata": {},
   "source": [
    "##### Heart disease"
   ]
  },
  {
   "cell_type": "code",
   "execution_count": null,
   "id": "b296b674",
   "metadata": {},
   "outputs": [],
   "source": [
    "sns.countplot(x='heart_disease', hue='stroke', data=df)\n",
    "plt.title('Heart Disease vs Stroke')"
   ]
  },
  {
   "cell_type": "markdown",
   "id": "ea62d2bd",
   "metadata": {},
   "source": [
    "##### Marriage Status"
   ]
  },
  {
   "cell_type": "code",
   "execution_count": null,
   "id": "0a5ae778",
   "metadata": {},
   "outputs": [],
   "source": [
    "sns.countplot(x='ever_married', hue='stroke', data=df)\n",
    "plt.title('Marital Status vs Stroke')"
   ]
  },
  {
   "cell_type": "markdown",
   "id": "c7277c1f",
   "metadata": {},
   "source": [
    "##### Work Type"
   ]
  },
  {
   "cell_type": "code",
   "execution_count": null,
   "id": "b23e5399",
   "metadata": {},
   "outputs": [],
   "source": [
    "sns.countplot(x='work_type', hue='stroke', data=df)\n",
    "plt.title('Work Type vs Stroke')"
   ]
  },
  {
   "cell_type": "markdown",
   "id": "d40cff3d",
   "metadata": {},
   "source": [
    "##### Resicende Type"
   ]
  },
  {
   "cell_type": "code",
   "execution_count": null,
   "id": "02b3610d",
   "metadata": {},
   "outputs": [],
   "source": [
    "sns.countplot(x='Residence_type', hue='stroke', data=df)\n",
    "plt.title('Residence Type vs Stroke')"
   ]
  },
  {
   "cell_type": "markdown",
   "id": "9ece703a",
   "metadata": {},
   "source": [
    "##### Average glucose level"
   ]
  },
  {
   "cell_type": "code",
   "execution_count": null,
   "id": "1bf0163d",
   "metadata": {},
   "outputs": [],
   "source": [
    "sns.boxplot(x='stroke', y='avg_glucose_level', data=df)\n",
    "plt.title('Average Glucose Level by Stroke')"
   ]
  },
  {
   "cell_type": "markdown",
   "id": "eddc81c9",
   "metadata": {},
   "source": [
    "##### BMI"
   ]
  },
  {
   "cell_type": "code",
   "execution_count": null,
   "id": "c0fd2fbf",
   "metadata": {},
   "outputs": [],
   "source": [
    "sns.boxplot(x='stroke', y='bmi', data=df)\n",
    "plt.title('BMI by Stroke')"
   ]
  },
  {
   "cell_type": "markdown",
   "id": "f95efde7",
   "metadata": {},
   "source": [
    "##### Smoking status"
   ]
  },
  {
   "cell_type": "code",
   "execution_count": null,
   "id": "90caeb1d",
   "metadata": {},
   "outputs": [],
   "source": [
    "sns.countplot(x='smoking_status', hue='stroke', data=df)\n",
    "plt.title('Smoking Status vs Stroke')\n"
   ]
  },
  {
   "cell_type": "markdown",
   "id": "e42e62ae",
   "metadata": {},
   "source": [
    "### Feature Engineering"
   ]
  },
  {
   "cell_type": "markdown",
   "id": "29d2569d",
   "metadata": {},
   "source": [
    "#### Deleting Residence_type column"
   ]
  },
  {
   "cell_type": "code",
   "execution_count": null,
   "id": "1a17d3ac",
   "metadata": {},
   "outputs": [],
   "source": [
    "\n",
    "df['Residence_type'].value_counts(normalize=True) * 100"
   ]
  },
  {
   "cell_type": "code",
   "execution_count": null,
   "id": "dd698b3e",
   "metadata": {},
   "outputs": [],
   "source": [
    "pd.crosstab(df['Residence_type'], df['stroke'], normalize='index') * 100"
   ]
  },
  {
   "cell_type": "code",
   "execution_count": null,
   "id": "490b992b",
   "metadata": {},
   "outputs": [],
   "source": [
    "df_processed = df.copy()\n",
    "df_processed = df.drop(columns=['Residence_type'])"
   ]
  },
  {
   "cell_type": "markdown",
   "id": "d4dea0fc",
   "metadata": {},
   "source": [
    "#### Removing gender outlier"
   ]
  },
  {
   "cell_type": "code",
   "execution_count": null,
   "id": "2e5b3367",
   "metadata": {},
   "outputs": [],
   "source": [
    "# confirm the 1 case of \"Other\" gender\n",
    "other_gender = df_processed[df_processed['gender'] == 'Other'].index\n",
    "other_gender"
   ]
  },
  {
   "cell_type": "code",
   "execution_count": null,
   "id": "ad0fa6d1",
   "metadata": {},
   "outputs": [],
   "source": [
    "# delete by index\n",
    "df_processed = df_processed.drop(index=other_gender)"
   ]
  },
  {
   "cell_type": "code",
   "execution_count": null,
   "id": "7f26d09a",
   "metadata": {},
   "outputs": [],
   "source": [
    "# confirm its gone\n",
    "df_processed['gender'].value_counts()"
   ]
  },
  {
   "cell_type": "markdown",
   "id": "87296c6f",
   "metadata": {},
   "source": [
    "#### Removing low age vs stroke outliers"
   ]
  },
  {
   "cell_type": "code",
   "execution_count": null,
   "id": "2f51cb16",
   "metadata": {},
   "outputs": [],
   "source": [
    "# confirm the outliers seen in the boxplot\n",
    "young_stroke_indexes = df_processed.loc[(df_processed['age'] < 20) & (df_processed['stroke'] == 1)].index\n",
    "young_stroke_indexes"
   ]
  },
  {
   "cell_type": "code",
   "execution_count": null,
   "id": "4d257f8e",
   "metadata": {},
   "outputs": [],
   "source": [
    "#delete by index\n",
    "df_processed = df_processed.drop(index=young_stroke_indexes)"
   ]
  },
  {
   "cell_type": "code",
   "execution_count": null,
   "id": "cb11d1ef",
   "metadata": {},
   "outputs": [],
   "source": [
    "# check if the cases are gone\n",
    "df_processed.loc[(df_processed['age'] < 20) & (df_processed['stroke'] == 1)]"
   ]
  },
  {
   "cell_type": "markdown",
   "id": "25886423",
   "metadata": {},
   "source": [
    "#### FIlling the bmi column"
   ]
  },
  {
   "cell_type": "code",
   "execution_count": null,
   "id": "2ac40729",
   "metadata": {},
   "outputs": [],
   "source": [
    "#average bmi\n",
    "df_processed['bmi'].mean()"
   ]
  },
  {
   "cell_type": "code",
   "execution_count": null,
   "id": "7914b7e0",
   "metadata": {},
   "outputs": [],
   "source": [
    "df_processed.groupby('gender')['bmi'].mean()"
   ]
  },
  {
   "cell_type": "code",
   "execution_count": null,
   "id": "3abea011",
   "metadata": {},
   "outputs": [],
   "source": [
    "# define 10-year bins and labels\n",
    "bins = list(range(0, 91, 10))\n",
    "labels = [f'{i}-{i+10}' for i in range(0, 90, 10)]"
   ]
  },
  {
   "cell_type": "code",
   "execution_count": null,
   "id": "78fa87ad",
   "metadata": {},
   "outputs": [],
   "source": [
    "# create age groups\n",
    "age_groups = pd.cut(df_processed['age'], bins=bins, labels=labels, right=False)"
   ]
  },
  {
   "cell_type": "code",
   "execution_count": null,
   "id": "2ac0d4a8",
   "metadata": {},
   "outputs": [],
   "source": [
    "# group bmi by gender and age groups\n",
    "mean_bmi = df_processed.groupby(['gender', age_groups])['bmi'].mean().round(1)"
   ]
  },
  {
   "cell_type": "code",
   "execution_count": null,
   "id": "81f8137a",
   "metadata": {},
   "outputs": [],
   "source": [
    "# view table with mean bmi for each gender and age group\n",
    "mean_bmi_df = mean_bmi.unstack()\n",
    "mean_bmi_df"
   ]
  },
  {
   "cell_type": "code",
   "execution_count": null,
   "id": "b029e7d8",
   "metadata": {},
   "outputs": [],
   "source": [
    "def fill_bmi(row):\n",
    "    if pd.isna(row['bmi']):\n",
    "        # Look up mean BMI for this gender and age group\n",
    "        age_group = pd.cut([row['age']], bins=bins, labels=labels, right=False)[0]\n",
    "        return mean_bmi.loc[row['gender'], age_group]\n",
    "    else:\n",
    "        return row['bmi']"
   ]
  },
  {
   "cell_type": "code",
   "execution_count": null,
   "id": "542c1e81",
   "metadata": {},
   "outputs": [],
   "source": [
    "# make a clean copy and fill missing values\n",
    "df_filled = df_processed.copy()\n",
    "df_filled['bmi'] = df_filled.apply(fill_bmi, axis=1)"
   ]
  },
  {
   "cell_type": "code",
   "execution_count": null,
   "id": "b2dc5574",
   "metadata": {},
   "outputs": [],
   "source": [
    "# check for missing values in the new column\n",
    "missing_bmi_filled = df_filled['bmi'].isna().sum()\n",
    "missing_bmi_filled"
   ]
  },
  {
   "cell_type": "markdown",
   "id": "6a55ddaf",
   "metadata": {},
   "source": [
    "#### Encoding the gender column"
   ]
  },
  {
   "cell_type": "code",
   "execution_count": null,
   "id": "c56d1b3a",
   "metadata": {},
   "outputs": [],
   "source": [
    "# transform the gender column to numerical values. Female = 0 and Male = 1\n",
    "df_filled.loc[:, ['gender']] = pd.get_dummies(df_filled['gender'], drop_first=True, dtype=int).values"
   ]
  },
  {
   "cell_type": "code",
   "execution_count": null,
   "id": "4ff38284",
   "metadata": {},
   "outputs": [],
   "source": [
    "df_filled['gender'].unique()"
   ]
  },
  {
   "cell_type": "markdown",
   "id": "d2d8d957",
   "metadata": {},
   "source": [
    "#### Encoding the ever_married column"
   ]
  },
  {
   "cell_type": "code",
   "execution_count": null,
   "id": "0f6ffbde",
   "metadata": {},
   "outputs": [],
   "source": [
    "# transform the ever_married column to numerical values. No = 0 and Yes = 1\n",
    "df_filled.loc[:, ['ever_married']] = pd.get_dummies(df_filled['ever_married'], drop_first=True, dtype=int).values"
   ]
  },
  {
   "cell_type": "code",
   "execution_count": null,
   "id": "c562444c",
   "metadata": {},
   "outputs": [],
   "source": [
    "df_filled['ever_married'].unique()"
   ]
  },
  {
   "cell_type": "markdown",
   "id": "b25339be",
   "metadata": {},
   "source": [
    "#### Encoding smoking_status column"
   ]
  },
  {
   "cell_type": "code",
   "execution_count": null,
   "id": "0ee47681",
   "metadata": {},
   "outputs": [],
   "source": [
    "# applying k−1 dummy encoding to smoking_status\n",
    "smoking_dummies = pd.get_dummies(df_filled['smoking_status'], dtype=int, drop_first=True)"
   ]
  },
  {
   "cell_type": "code",
   "execution_count": null,
   "id": "0b9e18f4",
   "metadata": {},
   "outputs": [],
   "source": [
    "# concat the new dummy columns to the original df\n",
    "df_filled = pd.concat([df_filled, smoking_dummies], axis=1)"
   ]
  },
  {
   "cell_type": "code",
   "execution_count": null,
   "id": "e0249f3d",
   "metadata": {},
   "outputs": [],
   "source": [
    "# Optionally drop the original smoking_status column\n",
    "df_filled.drop('smoking_status', axis=1, inplace=True)"
   ]
  },
  {
   "cell_type": "markdown",
   "id": "a7935907",
   "metadata": {},
   "source": [
    "#### Encoding work_type column"
   ]
  },
  {
   "cell_type": "code",
   "execution_count": null,
   "id": "7d334cb3",
   "metadata": {},
   "outputs": [],
   "source": [
    "# applying k−1 dummy encoding to work_type\n",
    "working_dummies = pd.get_dummies(df_filled['work_type'], dtype=int, drop_first=True)"
   ]
  },
  {
   "cell_type": "code",
   "execution_count": null,
   "id": "14377f01",
   "metadata": {},
   "outputs": [],
   "source": [
    "# concat the new dummy columns to the original df\n",
    "df_filled = pd.concat([df_filled, working_dummies], axis=1)"
   ]
  },
  {
   "cell_type": "code",
   "execution_count": null,
   "id": "ef3a3028",
   "metadata": {},
   "outputs": [],
   "source": [
    "# drop the original smoking_status column\n",
    "df_filled.drop('work_type', axis=1, inplace=True)"
   ]
  },
  {
   "cell_type": "markdown",
   "id": "523607bd",
   "metadata": {},
   "source": [
    "### Model Training"
   ]
  },
  {
   "cell_type": "markdown",
   "id": "4b4f33af",
   "metadata": {},
   "source": [
    "#### Train-Test Split"
   ]
  },
  {
   "cell_type": "code",
   "execution_count": null,
   "id": "554bf664",
   "metadata": {},
   "outputs": [],
   "source": [
    "df_train, df_test = train_test_split(df_filled,test_size = 0.2, random_state=32)"
   ]
  },
  {
   "cell_type": "code",
   "execution_count": null,
   "id": "630a9799",
   "metadata": {},
   "outputs": [],
   "source": [
    "# check for balanced datasets\n",
    "print(df_filled.gender.mean())\n",
    "print(df_train.gender.mean())\n",
    "print(df_test.gender.mean())"
   ]
  },
  {
   "cell_type": "code",
   "execution_count": null,
   "id": "2429c890",
   "metadata": {},
   "outputs": [],
   "source": [
    "print(df_filled.avg_glucose_level.mean())\n",
    "print(df_train.avg_glucose_level.mean())\n",
    "print(df_test.avg_glucose_level.mean())"
   ]
  },
  {
   "cell_type": "code",
   "execution_count": null,
   "id": "fa7df453",
   "metadata": {},
   "outputs": [],
   "source": [
    "df_train.columns"
   ]
  },
  {
   "cell_type": "code",
   "execution_count": null,
   "id": "3e238ee1",
   "metadata": {},
   "outputs": [],
   "source": [
    "# get the values of the columns for the training data\n",
    "X_train = df_train.drop(columns=['stroke']).values\n",
    "y_train = df_train['stroke'].values"
   ]
  },
  {
   "cell_type": "code",
   "execution_count": null,
   "id": "6c0c79a2",
   "metadata": {},
   "outputs": [],
   "source": [
    "# get the values of the columns for the testing data\n",
    "X_test = df_test.drop(columns=['stroke']).values\n",
    "y_test = df_test['stroke'].values"
   ]
  },
  {
   "cell_type": "markdown",
   "id": "aee4df81",
   "metadata": {},
   "source": [
    "#### Logistic Regression"
   ]
  },
  {
   "cell_type": "code",
   "execution_count": null,
   "id": "93ebb37e",
   "metadata": {},
   "outputs": [],
   "source": [
    "# initialize the model\n",
    "lr_model = LogisticRegression(random_state=32,max_iter=1000)"
   ]
  },
  {
   "cell_type": "code",
   "execution_count": null,
   "id": "400abd55",
   "metadata": {},
   "outputs": [],
   "source": [
    "# train the model on the training data\n",
    "lr_model.fit(X=X_train, y=y_train)"
   ]
  },
  {
   "cell_type": "code",
   "execution_count": null,
   "id": "ca4d0731",
   "metadata": {},
   "outputs": [],
   "source": [
    "y_test_predicted = lr_model.predict(X_test)"
   ]
  },
  {
   "cell_type": "code",
   "execution_count": null,
   "id": "7c17572d",
   "metadata": {},
   "outputs": [],
   "source": [
    "y_test_predicted"
   ]
  },
  {
   "cell_type": "code",
   "execution_count": null,
   "id": "949049f9",
   "metadata": {},
   "outputs": [],
   "source": [
    "y_test"
   ]
  },
  {
   "cell_type": "code",
   "execution_count": null,
   "id": "bf334965",
   "metadata": {},
   "outputs": [],
   "source": [
    "(y_test_predicted == y_test).sum()/len(y_test)"
   ]
  },
  {
   "cell_type": "code",
   "execution_count": null,
   "id": "700e109a",
   "metadata": {},
   "outputs": [],
   "source": [
    "cf = pd.DataFrame(\n",
    "    columns=[\"y_test_0\",\"y_test_1\"],index=[\"y_pred_0\",\"y_pred_1\"]\n",
    ")"
   ]
  },
  {
   "cell_type": "code",
   "execution_count": null,
   "id": "37c69cd2",
   "metadata": {},
   "outputs": [],
   "source": [
    "cf.loc[:,:] = confusion_matrix(y_true= y_test,y_pred= y_test_predicted)"
   ]
  },
  {
   "cell_type": "code",
   "execution_count": null,
   "id": "49bfe054",
   "metadata": {},
   "outputs": [],
   "source": [
    "cf"
   ]
  },
  {
   "cell_type": "code",
   "execution_count": null,
   "id": "a27a1aa6",
   "metadata": {},
   "outputs": [],
   "source": [
    "cf/len(y_test)"
   ]
  },
  {
   "cell_type": "code",
   "execution_count": null,
   "id": "3128c373",
   "metadata": {},
   "outputs": [],
   "source": [
    "recall_score(y_true=y_test, y_pred=y_test_predicted)"
   ]
  },
  {
   "cell_type": "code",
   "execution_count": null,
   "id": "858b6b82",
   "metadata": {},
   "outputs": [],
   "source": [
    "precision_score(y_true=y_test, y_pred=y_test_predicted, zero_division=0)"
   ]
  },
  {
   "cell_type": "code",
   "execution_count": null,
   "id": "f69822a7",
   "metadata": {},
   "outputs": [],
   "source": [
    "report_lr = classification_report(y_true=y_test, y_pred=y_test_predicted, zero_division=0)\n",
    "print(report_lr)"
   ]
  },
  {
   "cell_type": "markdown",
   "id": "53450e25",
   "metadata": {},
   "source": [
    "#### Random Forest"
   ]
  },
  {
   "cell_type": "code",
   "execution_count": null,
   "id": "1da0cc04",
   "metadata": {},
   "outputs": [],
   "source": [
    "# initialize the model\n",
    "rf_model = RandomForestClassifier(class_weight='balanced', random_state=32)"
   ]
  },
  {
   "cell_type": "code",
   "execution_count": null,
   "id": "509db333",
   "metadata": {},
   "outputs": [],
   "source": [
    "# train the model on the training data\n",
    "rf_model.fit(X_train, y_train)"
   ]
  },
  {
   "cell_type": "code",
   "execution_count": null,
   "id": "157f7d6d",
   "metadata": {},
   "outputs": [],
   "source": [
    "y_pred = rf_model.predict(X_test)"
   ]
  },
  {
   "cell_type": "code",
   "execution_count": null,
   "id": "452fee5b",
   "metadata": {},
   "outputs": [],
   "source": [
    "# Confusion matrix\n",
    "print(confusion_matrix(y_test, y_pred))"
   ]
  },
  {
   "cell_type": "code",
   "execution_count": null,
   "id": "fca75e99",
   "metadata": {},
   "outputs": [],
   "source": [
    "# Classification report\n",
    "report_rf = classification_report(y_test, y_pred)\n",
    "print(report_rf)"
   ]
  },
  {
   "cell_type": "markdown",
   "id": "347db1e7",
   "metadata": {},
   "source": [
    "#### Cross Validation with Logistic Regression"
   ]
  },
  {
   "cell_type": "code",
   "execution_count": null,
   "id": "14ebc431",
   "metadata": {},
   "outputs": [],
   "source": [
    "# initialize the model for cross-validation\n",
    "cv_lr_model = LogisticRegression(random_state=32, max_iter=1000)"
   ]
  },
  {
   "cell_type": "code",
   "execution_count": null,
   "id": "6736ee14",
   "metadata": {},
   "outputs": [],
   "source": [
    "scores_lr = cross_val_score(cv_lr_model, X_train, y_train, cv=5, scoring='f1')"
   ]
  },
  {
   "cell_type": "code",
   "execution_count": null,
   "id": "d26c1f7a",
   "metadata": {},
   "outputs": [],
   "source": [
    "print(\"Logistic Regression - F1 scores for each fold:\", scores_lr)"
   ]
  },
  {
   "cell_type": "code",
   "execution_count": null,
   "id": "b96bc778",
   "metadata": {},
   "outputs": [],
   "source": [
    "print(\"Mean F1 score:\", scores_lr.mean())"
   ]
  },
  {
   "cell_type": "markdown",
   "id": "eada40e2",
   "metadata": {},
   "source": [
    "#### Cross Validation with Random Forest"
   ]
  },
  {
   "cell_type": "code",
   "execution_count": null,
   "id": "8142cb77",
   "metadata": {},
   "outputs": [],
   "source": [
    "cv_rf_model = RandomForestClassifier(class_weight='balanced', random_state=32)\n"
   ]
  },
  {
   "cell_type": "code",
   "execution_count": null,
   "id": "c072372b",
   "metadata": {},
   "outputs": [],
   "source": [
    "scores_rf = cross_val_score(cv_rf_model, X_train, y_train, cv=5, scoring='f1')"
   ]
  },
  {
   "cell_type": "code",
   "execution_count": null,
   "id": "385875fa",
   "metadata": {},
   "outputs": [],
   "source": [
    "scores_rf"
   ]
  },
  {
   "cell_type": "code",
   "execution_count": null,
   "id": "7beee92c",
   "metadata": {},
   "outputs": [],
   "source": [
    "print(\"Mean F1 score:\", scores_rf.mean())"
   ]
  },
  {
   "cell_type": "markdown",
   "id": "6c2f3af6",
   "metadata": {},
   "source": [
    "#### SMOTE"
   ]
  },
  {
   "cell_type": "markdown",
   "id": "234a9405",
   "metadata": {},
   "source": [
    "##### Create new balanced dataset"
   ]
  },
  {
   "cell_type": "code",
   "execution_count": null,
   "id": "7ac35950",
   "metadata": {},
   "outputs": [],
   "source": [
    "# copy dataset\n",
    "df_balanced = df_filled.copy()"
   ]
  },
  {
   "cell_type": "code",
   "execution_count": null,
   "id": "ccaed6f5",
   "metadata": {},
   "outputs": [],
   "source": [
    "count_non_stroke = len(df_balanced[df_balanced['stroke'] == 0])\n",
    "count_non_stroke"
   ]
  },
  {
   "cell_type": "code",
   "execution_count": null,
   "id": "4c13bdc5",
   "metadata": {},
   "outputs": [],
   "source": [
    "count_stroke = len(df_balanced[df_balanced['stroke'] == 1])\n",
    "count_stroke"
   ]
  },
  {
   "cell_type": "code",
   "execution_count": null,
   "id": "f214fb9b",
   "metadata": {},
   "outputs": [],
   "source": [
    "X = df_balanced.drop(columns=['stroke']).values\n",
    "y = df_balanced['stroke'].values\n",
    "print(f\"Before SMOTE: non-stroke = {sum(y==0)}, stroke = {sum(y==1)}\")"
   ]
  },
  {
   "cell_type": "code",
   "execution_count": null,
   "id": "e6973575",
   "metadata": {},
   "outputs": [],
   "source": [
    "# initialize SMOTE to balance minority class to majority count\n",
    "smote = SMOTE(sampling_strategy=1.0, random_state=32)"
   ]
  },
  {
   "cell_type": "code",
   "execution_count": null,
   "id": "5afd64fa",
   "metadata": {},
   "outputs": [],
   "source": [
    "# apply SMOTE on full dataset to balance classes\n",
    "X_resampled, y_resampled = smote.fit_resample(X, y)\n",
    "print(f\"After SMOTE: non-stroke = {sum(y_resampled==0)}, stroke = {sum(y_resampled==1)}\")"
   ]
  },
  {
   "cell_type": "code",
   "execution_count": null,
   "id": "d4e15f98",
   "metadata": {},
   "outputs": [],
   "source": [
    "# Recreate df_balanced DataFrame with new balanced data\n",
    "df_balanced = df_balanced.iloc[:len(X_resampled), :].copy()"
   ]
  },
  {
   "cell_type": "code",
   "execution_count": null,
   "id": "a97a6315",
   "metadata": {},
   "outputs": [],
   "source": [
    "# get columns of features\n",
    "feature_columns = df_balanced.drop(columns=['stroke']).columns"
   ]
  },
  {
   "cell_type": "code",
   "execution_count": null,
   "id": "09b9af1e",
   "metadata": {},
   "outputs": [],
   "source": [
    "# create new balanced DataFrame from resampled arrays\n",
    "df_balanced = pd.DataFrame(X_resampled, columns=feature_columns)\n",
    "df_balanced['stroke'] = y_resampled"
   ]
  },
  {
   "cell_type": "code",
   "execution_count": null,
   "id": "726e6233",
   "metadata": {},
   "outputs": [],
   "source": [
    "num_stroke_0 = len(df_balanced[df_balanced['stroke'] == 0])\n",
    "num_stroke_1 = len(df_balanced[df_balanced['stroke'] == 1])\n",
    "num_stroke_0, num_stroke_1\n"
   ]
  },
  {
   "cell_type": "code",
   "execution_count": null,
   "id": "fed0a6e0",
   "metadata": {},
   "outputs": [],
   "source": [
    "df_train, df_test = train_test_split(df_balanced, test_size=0.2, random_state=32)"
   ]
  },
  {
   "cell_type": "code",
   "execution_count": null,
   "id": "f840d9a7",
   "metadata": {},
   "outputs": [],
   "source": [
    "# train data\n",
    "X_train = df_train.drop(columns=['stroke']).values\n",
    "y_train = df_train['stroke'].values"
   ]
  },
  {
   "cell_type": "code",
   "execution_count": null,
   "id": "0c636030",
   "metadata": {},
   "outputs": [],
   "source": [
    "# test data\n",
    "X_test = df_test.drop(columns=['stroke']).values\n",
    "y_test = df_test['stroke'].values"
   ]
  },
  {
   "cell_type": "markdown",
   "id": "ab58fe1a",
   "metadata": {},
   "source": [
    "##### Logistic Regression"
   ]
  },
  {
   "cell_type": "code",
   "execution_count": null,
   "id": "df3f731f",
   "metadata": {},
   "outputs": [],
   "source": [
    "lr_model = LogisticRegression(random_state=32, max_iter=1000)\n",
    "lr_model.fit(X_train, y_train)\n",
    "y_pred_lr = lr_model.predict(X_test)"
   ]
  },
  {
   "cell_type": "code",
   "execution_count": null,
   "id": "0660c24a",
   "metadata": {},
   "outputs": [],
   "source": [
    "print(\"Logistic Regression Results:\")\n",
    "print(confusion_matrix(y_test, y_pred_lr))\n",
    "print(classification_report(y_test, y_pred_lr))"
   ]
  },
  {
   "cell_type": "markdown",
   "id": "2c9b25f9",
   "metadata": {},
   "source": [
    "##### Random Forest"
   ]
  },
  {
   "cell_type": "code",
   "execution_count": null,
   "id": "d7fc3bae",
   "metadata": {},
   "outputs": [],
   "source": [
    "# initialize\n",
    "rf_model = RandomForestClassifier(random_state=32)\n",
    "rf_model.fit(X_train, y_train)\n",
    "y_pred_rf = rf_model.predict(X_test)"
   ]
  },
  {
   "cell_type": "code",
   "execution_count": null,
   "id": "e11a2b26",
   "metadata": {},
   "outputs": [],
   "source": [
    "print(\"Random Forest Results:\")\n",
    "print(confusion_matrix(y_test, y_pred_rf))\n",
    "print(classification_report(y_test, y_pred_rf))"
   ]
  }
 ],
 "metadata": {
  "kernelspec": {
   "display_name": ".venv (3.11.2)",
   "language": "python",
   "name": "python3"
  },
  "language_info": {
   "codemirror_mode": {
    "name": "ipython",
    "version": 3
   },
   "file_extension": ".py",
   "mimetype": "text/x-python",
   "name": "python",
   "nbconvert_exporter": "python",
   "pygments_lexer": "ipython3",
   "version": "3.11.2"
  }
 },
 "nbformat": 4,
 "nbformat_minor": 5
}
